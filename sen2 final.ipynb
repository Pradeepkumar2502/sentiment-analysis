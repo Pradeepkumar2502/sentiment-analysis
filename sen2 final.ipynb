{
 "cells": [
  {
   "cell_type": "code",
   "execution_count": 1,
   "metadata": {},
   "outputs": [
    {
     "name": "stderr",
     "output_type": "stream",
     "text": [
      "C:\\Users\\Dell\\AppData\\Local\\Temp\\ipykernel_19148\\3923802737.py:2: DeprecationWarning: \n",
      "Pyarrow will become a required dependency of pandas in the next major release of pandas (pandas 3.0),\n",
      "(to allow more performant data types, such as the Arrow string type, and better interoperability with other libraries)\n",
      "but was not found to be installed on your system.\n",
      "If this would cause problems for you,\n",
      "please provide us feedback at https://github.com/pandas-dev/pandas/issues/54466\n",
      "        \n",
      "  import pandas as pd\n"
     ]
    }
   ],
   "source": [
    "# IMPORTING NECESSARY LIBRARIES\n",
    "import pandas as pd\n",
    "import numpy as np\n",
    "from vaderSentiment.vaderSentiment import SentimentIntensityAnalyzer\n",
    "import plotly.express as px\n",
    "import plotly.graph_objects as go\n",
    "import nltk\n",
    "from nltk.tokenize import word_tokenize\n",
    "from nltk import pos_tag\n",
    "from nltk.stem import WordNetLemmatizer\n",
    "from nltk.corpus import stopwords\n",
    "from nltk.corpus import wordnet\n",
    "from wordcloud import WordCloud, STOPWORDS\n",
    "import matplotlib.pyplot as plt\n",
    "import time\n",
    "import re\n"
   ]
  },
  {
   "cell_type": "code",
   "execution_count": 2,
   "metadata": {},
   "outputs": [],
   "source": [
    "import requests                   \n",
    "from bs4 import BeautifulSoup     \n",
    "import pandas as pd   "
   ]
  },
  {
   "cell_type": "code",
   "execution_count": 3,
   "metadata": {},
   "outputs": [
    {
     "name": "stderr",
     "output_type": "stream",
     "text": [
      "[nltk_data] Downloading package punkt to\n",
      "[nltk_data]     C:\\Users\\Dell\\AppData\\Roaming\\nltk_data...\n",
      "[nltk_data]   Package punkt is already up-to-date!\n",
      "[nltk_data] Downloading package stopwords to\n",
      "[nltk_data]     C:\\Users\\Dell\\AppData\\Roaming\\nltk_data...\n",
      "[nltk_data]   Package stopwords is already up-to-date!\n",
      "[nltk_data] Downloading package wordnet to\n",
      "[nltk_data]     C:\\Users\\Dell\\AppData\\Roaming\\nltk_data...\n",
      "[nltk_data]   Package wordnet is already up-to-date!\n",
      "[nltk_data] Downloading package omw-1.4 to\n",
      "[nltk_data]     C:\\Users\\Dell\\AppData\\Roaming\\nltk_data...\n",
      "[nltk_data]   Package omw-1.4 is already up-to-date!\n",
      "[nltk_data] Downloading package averaged_perceptron_tagger to\n",
      "[nltk_data]     C:\\Users\\Dell\\AppData\\Roaming\\nltk_data...\n",
      "[nltk_data]   Package averaged_perceptron_tagger is already up-to-\n",
      "[nltk_data]       date!\n"
     ]
    },
    {
     "data": {
      "text/plain": [
       "True"
      ]
     },
     "execution_count": 3,
     "metadata": {},
     "output_type": "execute_result"
    }
   ],
   "source": [
    "nltk.download('punkt')\n",
    "nltk.download('stopwords')\n",
    "nltk.download('wordnet')\n",
    "nltk.download('omw-1.4')\n",
    "nltk.download('averaged_perceptron_tagger')\n"
   ]
  },
  {
   "cell_type": "code",
   "execution_count": 4,
   "metadata": {},
   "outputs": [
    {
     "name": "stdout",
     "output_type": "stream",
     "text": [
      "Scraping page 1\n",
      "   ---> 0 total reviews\n",
      "Scraping page 2\n",
      "   ---> 10 total reviews\n",
      "Scraping page 3\n",
      "   ---> 20 total reviews\n",
      "Scraping page 4\n",
      "   ---> 20 total reviews\n",
      "Scraping page 5\n",
      "   ---> 20 total reviews\n",
      "Scraping page 6\n",
      "   ---> 20 total reviews\n",
      "Scraping page 7\n",
      "   ---> 20 total reviews\n",
      "Scraping page 8\n",
      "   ---> 20 total reviews\n",
      "Scraping page 9\n",
      "   ---> 20 total reviews\n",
      "Scraping page 10\n",
      "   ---> 20 total reviews\n",
      "Scraping page 11\n",
      "   ---> 20 total reviews\n",
      "Scraping page 12\n",
      "   ---> 20 total reviews\n",
      "Scraping page 13\n",
      "   ---> 20 total reviews\n",
      "Scraping page 14\n",
      "   ---> 20 total reviews\n",
      "Scraping page 15\n",
      "   ---> 20 total reviews\n",
      "Scraping page 16\n",
      "   ---> 20 total reviews\n",
      "Scraping page 17\n",
      "   ---> 20 total reviews\n",
      "Scraping page 18\n",
      "   ---> 20 total reviews\n",
      "Scraping page 19\n",
      "   ---> 20 total reviews\n",
      "Scraping page 20\n",
      "   ---> 20 total reviews\n",
      "Scraping page 21\n",
      "   ---> 20 total reviews\n",
      "Scraping page 22\n",
      "   ---> 20 total reviews\n",
      "Scraping page 23\n",
      "   ---> 30 total reviews\n",
      "Scraping page 24\n",
      "   ---> 40 total reviews\n",
      "Scraping page 25\n",
      "   ---> 40 total reviews\n",
      "Scraping page 26\n",
      "   ---> 40 total reviews\n",
      "Scraping page 27\n",
      "   ---> 40 total reviews\n",
      "Scraping page 28\n",
      "   ---> 40 total reviews\n",
      "Scraping page 29\n",
      "   ---> 40 total reviews\n",
      "Scraping page 30\n",
      "   ---> 50 total reviews\n",
      "Scraping page 31\n",
      "   ---> 50 total reviews\n",
      "Scraping page 32\n",
      "   ---> 50 total reviews\n",
      "Scraping page 33\n",
      "   ---> 50 total reviews\n",
      "Scraping page 34\n",
      "   ---> 50 total reviews\n",
      "Scraping page 35\n",
      "   ---> 50 total reviews\n",
      "Scraping page 36\n",
      "   ---> 50 total reviews\n",
      "Scraping page 37\n",
      "   ---> 50 total reviews\n",
      "Scraping page 38\n",
      "   ---> 50 total reviews\n",
      "Scraping page 39\n",
      "   ---> 50 total reviews\n",
      "Scraping page 40\n",
      "   ---> 50 total reviews\n",
      "Scraping page 41\n",
      "   ---> 50 total reviews\n",
      "Scraping page 42\n",
      "   ---> 50 total reviews\n",
      "Scraping page 43\n",
      "   ---> 50 total reviews\n",
      "Scraping page 44\n",
      "   ---> 50 total reviews\n",
      "Scraping page 45\n",
      "   ---> 50 total reviews\n",
      "Scraping page 46\n",
      "   ---> 50 total reviews\n",
      "Scraping page 47\n",
      "   ---> 50 total reviews\n",
      "Scraping page 48\n",
      "   ---> 50 total reviews\n",
      "Scraping page 49\n",
      "   ---> 50 total reviews\n",
      "Scraping page 50\n",
      "   ---> 50 total reviews\n"
     ]
    }
   ],
   "source": [
    "# SCRAPING DATA\n",
    "base_url = \"https://www.amazon.in/Allen-Solly-Regular-AMKP317G04249_Jet-Black_Large/product-reviews/B06Y2FG6R7/ref=cm_cr_dp_d_show_all_btm?ie=UTF8&reviewerType=all_reviews\"\n",
    "pages = 50\n",
    "page_size = 100\n",
    "\n",
    "reviews = []\n",
    "\n",
    "# for i in range(1, pages + 1):\n",
    "for i in range(1, pages + 1):\n",
    "    \n",
    "    print(f\"Scraping page {i}\")\n",
    "\n",
    "    # Create URL to collect links from paginated data\n",
    "    url = f\"{base_url}/page/{i}/?sortby=post_date%3ADesc&pagesize={page_size}\"\n",
    "\n",
    "    # Collect HTML data from this page\n",
    "    response = requests.get(url)\n",
    "\n",
    "    # Parse content\n",
    "    content = response.content\n",
    "    parsed_content = BeautifulSoup(content, 'html.parser')\n",
    "    for para in parsed_content.find_all(\"div\", {\"data-hook\": \"review\"}):\n",
    "        reviews.append(para.get_text())\n",
    "    \n",
    "    print(f\"   ---> {len(reviews)} total reviews\")\n",
    "\n"
   ]
  },
  {
   "cell_type": "code",
   "execution_count": 5,
   "metadata": {},
   "outputs": [
    {
     "data": {
      "text/html": [
       "<div>\n",
       "<style scoped>\n",
       "    .dataframe tbody tr th:only-of-type {\n",
       "        vertical-align: middle;\n",
       "    }\n",
       "\n",
       "    .dataframe tbody tr th {\n",
       "        vertical-align: top;\n",
       "    }\n",
       "\n",
       "    .dataframe thead th {\n",
       "        text-align: right;\n",
       "    }\n",
       "</style>\n",
       "<table border=\"1\" class=\"dataframe\">\n",
       "  <thead>\n",
       "    <tr style=\"text-align: right;\">\n",
       "      <th></th>\n",
       "      <th>reviews</th>\n",
       "    </tr>\n",
       "  </thead>\n",
       "  <tbody>\n",
       "    <tr>\n",
       "      <th>0</th>\n",
       "      <td>sujeeth5.0 out of 5 stars\\nPerfect fit\\nReview...</td>\n",
       "    </tr>\n",
       "    <tr>\n",
       "      <th>1</th>\n",
       "      <td>Placeholder4.0 out of 5 stars\\ngood product\\nR...</td>\n",
       "    </tr>\n",
       "    <tr>\n",
       "      <th>2</th>\n",
       "      <td>sonia5.0 out of 5 stars\\ngood product with bad...</td>\n",
       "    </tr>\n",
       "    <tr>\n",
       "      <th>3</th>\n",
       "      <td>N P.3.0 out of 5 stars\\nSize L is too big for ...</td>\n",
       "    </tr>\n",
       "    <tr>\n",
       "      <th>4</th>\n",
       "      <td>Himanshu garg5.0 out of 5 stars\\nBest fabric, ...</td>\n",
       "    </tr>\n",
       "  </tbody>\n",
       "</table>\n",
       "</div>"
      ],
      "text/plain": [
       "                                             reviews\n",
       "0  sujeeth5.0 out of 5 stars\\nPerfect fit\\nReview...\n",
       "1  Placeholder4.0 out of 5 stars\\ngood product\\nR...\n",
       "2  sonia5.0 out of 5 stars\\ngood product with bad...\n",
       "3  N P.3.0 out of 5 stars\\nSize L is too big for ...\n",
       "4  Himanshu garg5.0 out of 5 stars\\nBest fabric, ..."
      ]
     },
     "execution_count": 5,
     "metadata": {},
     "output_type": "execute_result"
    }
   ],
   "source": [
    "# PUTTING DATA INTO DATAFRAME\n",
    "df = pd.DataFrame()\n",
    "df[\"reviews\"] = reviews\n",
    "df.head()"
   ]
  },
  {
   "cell_type": "code",
   "execution_count": 6,
   "metadata": {},
   "outputs": [],
   "source": [
    "# FUNCTION FOR CLEANING DATA\n",
    "def clean(text):\n",
    "    text = re.sub('[^A-Za-z]+', ' ', str(text))\n",
    "    text = re.sub('^(.*stars )',\" \", str(text))\n",
    "    return text\n",
    "\n"
   ]
  },
  {
   "cell_type": "code",
   "execution_count": 7,
   "metadata": {},
   "outputs": [
    {
     "data": {
      "text/html": [
       "<div>\n",
       "<style scoped>\n",
       "    .dataframe tbody tr th:only-of-type {\n",
       "        vertical-align: middle;\n",
       "    }\n",
       "\n",
       "    .dataframe tbody tr th {\n",
       "        vertical-align: top;\n",
       "    }\n",
       "\n",
       "    .dataframe thead th {\n",
       "        text-align: right;\n",
       "    }\n",
       "</style>\n",
       "<table border=\"1\" class=\"dataframe\">\n",
       "  <thead>\n",
       "    <tr style=\"text-align: right;\">\n",
       "      <th></th>\n",
       "      <th>cleaned reviews</th>\n",
       "    </tr>\n",
       "  </thead>\n",
       "  <tbody>\n",
       "    <tr>\n",
       "      <th>0</th>\n",
       "      <td>Perfect fit Reviewed in India on March Size X...</td>\n",
       "    </tr>\n",
       "    <tr>\n",
       "      <th>1</th>\n",
       "      <td>good product Reviewed in India on March Size ...</td>\n",
       "    </tr>\n",
       "    <tr>\n",
       "      <th>2</th>\n",
       "      <td>good product with bad packaging Reviewed in I...</td>\n",
       "    </tr>\n",
       "    <tr>\n",
       "      <th>3</th>\n",
       "      <td>Size L is too big for me Please replace this ...</td>\n",
       "    </tr>\n",
       "    <tr>\n",
       "      <th>4</th>\n",
       "      <td>Best fabric color and fitting Reviewed in Ind...</td>\n",
       "    </tr>\n",
       "  </tbody>\n",
       "</table>\n",
       "</div>"
      ],
      "text/plain": [
       "                                     cleaned reviews\n",
       "0   Perfect fit Reviewed in India on March Size X...\n",
       "1   good product Reviewed in India on March Size ...\n",
       "2   good product with bad packaging Reviewed in I...\n",
       "3   Size L is too big for me Please replace this ...\n",
       "4   Best fabric color and fitting Reviewed in Ind..."
      ]
     },
     "execution_count": 7,
     "metadata": {},
     "output_type": "execute_result"
    }
   ],
   "source": [
    "# PUTTING CLEANED DTA INTO DATAFRAME\n",
    "df1 = pd.DataFrame()\n",
    "df1[\"cleaned reviews\"] = df[\"reviews\"].apply(clean)\n",
    "df1.head()"
   ]
  },
  {
   "cell_type": "code",
   "execution_count": 8,
   "metadata": {},
   "outputs": [
    {
     "data": {
      "text/html": [
       "<div>\n",
       "<style scoped>\n",
       "    .dataframe tbody tr th:only-of-type {\n",
       "        vertical-align: middle;\n",
       "    }\n",
       "\n",
       "    .dataframe tbody tr th {\n",
       "        vertical-align: top;\n",
       "    }\n",
       "\n",
       "    .dataframe thead th {\n",
       "        text-align: right;\n",
       "    }\n",
       "</style>\n",
       "<table border=\"1\" class=\"dataframe\">\n",
       "  <thead>\n",
       "    <tr style=\"text-align: right;\">\n",
       "      <th></th>\n",
       "      <th>cleaned reviews</th>\n",
       "      <th>POS tagged</th>\n",
       "    </tr>\n",
       "  </thead>\n",
       "  <tbody>\n",
       "    <tr>\n",
       "      <th>0</th>\n",
       "      <td>Perfect fit Reviewed in India on March Size X...</td>\n",
       "      <td>[(Perfect, a), (fit, n), (Reviewed, n), (India...</td>\n",
       "    </tr>\n",
       "    <tr>\n",
       "      <th>1</th>\n",
       "      <td>good product Reviewed in India on March Size ...</td>\n",
       "      <td>[(good, a), (product, n), (Reviewed, n), (Indi...</td>\n",
       "    </tr>\n",
       "    <tr>\n",
       "      <th>2</th>\n",
       "      <td>good product with bad packaging Reviewed in I...</td>\n",
       "      <td>[(good, a), (product, n), (bad, a), (packaging...</td>\n",
       "    </tr>\n",
       "    <tr>\n",
       "      <th>3</th>\n",
       "      <td>Size L is too big for me Please replace this ...</td>\n",
       "      <td>[(Size, n), (L, n), (big, a), (Please, n), (re...</td>\n",
       "    </tr>\n",
       "    <tr>\n",
       "      <th>4</th>\n",
       "      <td>Best fabric color and fitting Reviewed in Ind...</td>\n",
       "      <td>[(Best, n), (fabric, n), (color, n), (fitting,...</td>\n",
       "    </tr>\n",
       "  </tbody>\n",
       "</table>\n",
       "</div>"
      ],
      "text/plain": [
       "                                     cleaned reviews  \\\n",
       "0   Perfect fit Reviewed in India on March Size X...   \n",
       "1   good product Reviewed in India on March Size ...   \n",
       "2   good product with bad packaging Reviewed in I...   \n",
       "3   Size L is too big for me Please replace this ...   \n",
       "4   Best fabric color and fitting Reviewed in Ind...   \n",
       "\n",
       "                                          POS tagged  \n",
       "0  [(Perfect, a), (fit, n), (Reviewed, n), (India...  \n",
       "1  [(good, a), (product, n), (Reviewed, n), (Indi...  \n",
       "2  [(good, a), (product, n), (bad, a), (packaging...  \n",
       "3  [(Size, n), (L, n), (big, a), (Please, n), (re...  \n",
       "4  [(Best, n), (fabric, n), (color, n), (fitting,...  "
      ]
     },
     "execution_count": 8,
     "metadata": {},
     "output_type": "execute_result"
    }
   ],
   "source": [
    "# POS TAGGING THE DATA\n",
    "pos_dict = {'J':wordnet.ADJ, 'V':wordnet.VERB, 'N':wordnet.NOUN, 'R':wordnet.ADV}\n",
    "def token_stop_pos(text):\n",
    "    tags = pos_tag(word_tokenize(text))\n",
    "    l = []\n",
    "    for word, tag in tags:\n",
    "        if word.lower() not in set(stopwords.words('english')):\n",
    "          l.append(tuple([word, pos_dict.get(tag[0])]))\n",
    "    return l \n",
    "\n",
    "df1[\"POS tagged\"] = df1[\"cleaned reviews\"].apply(token_stop_pos)\n",
    "df1.head()"
   ]
  },
  {
   "cell_type": "code",
   "execution_count": 9,
   "metadata": {},
   "outputs": [
    {
     "data": {
      "text/html": [
       "<div>\n",
       "<style scoped>\n",
       "    .dataframe tbody tr th:only-of-type {\n",
       "        vertical-align: middle;\n",
       "    }\n",
       "\n",
       "    .dataframe tbody tr th {\n",
       "        vertical-align: top;\n",
       "    }\n",
       "\n",
       "    .dataframe thead th {\n",
       "        text-align: right;\n",
       "    }\n",
       "</style>\n",
       "<table border=\"1\" class=\"dataframe\">\n",
       "  <thead>\n",
       "    <tr style=\"text-align: right;\">\n",
       "      <th></th>\n",
       "      <th>cleaned reviews</th>\n",
       "      <th>POS tagged</th>\n",
       "      <th>Lemma</th>\n",
       "    </tr>\n",
       "  </thead>\n",
       "  <tbody>\n",
       "    <tr>\n",
       "      <th>0</th>\n",
       "      <td>Perfect fit Reviewed in India on March Size X...</td>\n",
       "      <td>[(Perfect, a), (fit, n), (Reviewed, n), (India...</td>\n",
       "      <td>Perfect fit Reviewed India March Size XLColo...</td>\n",
       "    </tr>\n",
       "    <tr>\n",
       "      <th>1</th>\n",
       "      <td>good product Reviewed in India on March Size ...</td>\n",
       "      <td>[(good, a), (product, n), (Reviewed, n), (Indi...</td>\n",
       "      <td>good product Reviewed India March Size XLCol...</td>\n",
       "    </tr>\n",
       "    <tr>\n",
       "      <th>2</th>\n",
       "      <td>good product with bad packaging Reviewed in I...</td>\n",
       "      <td>[(good, a), (product, n), (bad, a), (packaging...</td>\n",
       "      <td>good product bad packaging Reviewed India Ma...</td>\n",
       "    </tr>\n",
       "    <tr>\n",
       "      <th>3</th>\n",
       "      <td>Size L is too big for me Please replace this ...</td>\n",
       "      <td>[(Size, n), (L, n), (big, a), (Please, n), (re...</td>\n",
       "      <td>Size L big Please replace item size Reviewed...</td>\n",
       "    </tr>\n",
       "    <tr>\n",
       "      <th>4</th>\n",
       "      <td>Best fabric color and fitting Reviewed in Ind...</td>\n",
       "      <td>[(Best, n), (fabric, n), (color, n), (fitting,...</td>\n",
       "      <td>Best fabric color fitting Reviewed India Mar...</td>\n",
       "    </tr>\n",
       "  </tbody>\n",
       "</table>\n",
       "</div>"
      ],
      "text/plain": [
       "                                     cleaned reviews  \\\n",
       "0   Perfect fit Reviewed in India on March Size X...   \n",
       "1   good product Reviewed in India on March Size ...   \n",
       "2   good product with bad packaging Reviewed in I...   \n",
       "3   Size L is too big for me Please replace this ...   \n",
       "4   Best fabric color and fitting Reviewed in Ind...   \n",
       "\n",
       "                                          POS tagged  \\\n",
       "0  [(Perfect, a), (fit, n), (Reviewed, n), (India...   \n",
       "1  [(good, a), (product, n), (Reviewed, n), (Indi...   \n",
       "2  [(good, a), (product, n), (bad, a), (packaging...   \n",
       "3  [(Size, n), (L, n), (big, a), (Please, n), (re...   \n",
       "4  [(Best, n), (fabric, n), (color, n), (fitting,...   \n",
       "\n",
       "                                               Lemma  \n",
       "0    Perfect fit Reviewed India March Size XLColo...  \n",
       "1    good product Reviewed India March Size XLCol...  \n",
       "2    good product bad packaging Reviewed India Ma...  \n",
       "3    Size L big Please replace item size Reviewed...  \n",
       "4    Best fabric color fitting Reviewed India Mar...  "
      ]
     },
     "execution_count": 9,
     "metadata": {},
     "output_type": "execute_result"
    }
   ],
   "source": [
    "# LEMMATIZING DATA\n",
    "wordnet_lemmatizer = WordNetLemmatizer()\n",
    "def lemmatize(pos_data):\n",
    "    lemma_rew = \" \"\n",
    "    for word, pos in pos_data:\n",
    "        if not pos:\n",
    "            lemma = word\n",
    "            lemma_rew = lemma_rew + \" \" + lemma\n",
    "        else:\n",
    "            lemma = wordnet_lemmatizer.lemmatize(word, pos=pos)\n",
    "            lemma_rew = lemma_rew + \" \" + lemma\n",
    "    return lemma_rew\n",
    "\n",
    "df1['Lemma'] = df1['POS tagged'].apply(lemmatize)\n",
    "df1.head()"
   ]
  },
  {
   "cell_type": "code",
   "execution_count": 10,
   "metadata": {},
   "outputs": [
    {
     "data": {
      "text/html": [
       "<div>\n",
       "<style scoped>\n",
       "    .dataframe tbody tr th:only-of-type {\n",
       "        vertical-align: middle;\n",
       "    }\n",
       "\n",
       "    .dataframe tbody tr th {\n",
       "        vertical-align: top;\n",
       "    }\n",
       "\n",
       "    .dataframe thead th {\n",
       "        text-align: right;\n",
       "    }\n",
       "</style>\n",
       "<table border=\"1\" class=\"dataframe\">\n",
       "  <thead>\n",
       "    <tr style=\"text-align: right;\">\n",
       "      <th></th>\n",
       "      <th>cleaned reviews</th>\n",
       "      <th>POS tagged</th>\n",
       "      <th>Lemma</th>\n",
       "      <th>Sentiment</th>\n",
       "      <th>Analysis</th>\n",
       "    </tr>\n",
       "  </thead>\n",
       "  <tbody>\n",
       "    <tr>\n",
       "      <th>0</th>\n",
       "      <td>Perfect fit Reviewed in India on March Size X...</td>\n",
       "      <td>[(Perfect, a), (fit, n), (Reviewed, n), (India...</td>\n",
       "      <td>Perfect fit Reviewed India March Size XLColo...</td>\n",
       "      <td>0.9493</td>\n",
       "      <td>Positive</td>\n",
       "    </tr>\n",
       "    <tr>\n",
       "      <th>1</th>\n",
       "      <td>good product Reviewed in India on March Size ...</td>\n",
       "      <td>[(good, a), (product, n), (Reviewed, n), (Indi...</td>\n",
       "      <td>good product Reviewed India March Size XLCol...</td>\n",
       "      <td>0.9300</td>\n",
       "      <td>Positive</td>\n",
       "    </tr>\n",
       "    <tr>\n",
       "      <th>2</th>\n",
       "      <td>good product with bad packaging Reviewed in I...</td>\n",
       "      <td>[(good, a), (product, n), (bad, a), (packaging...</td>\n",
       "      <td>good product bad packaging Reviewed India Ma...</td>\n",
       "      <td>-0.1027</td>\n",
       "      <td>Negative</td>\n",
       "    </tr>\n",
       "    <tr>\n",
       "      <th>3</th>\n",
       "      <td>Size L is too big for me Please replace this ...</td>\n",
       "      <td>[(Size, n), (L, n), (big, a), (Please, n), (re...</td>\n",
       "      <td>Size L big Please replace item size Reviewed...</td>\n",
       "      <td>0.9206</td>\n",
       "      <td>Positive</td>\n",
       "    </tr>\n",
       "    <tr>\n",
       "      <th>4</th>\n",
       "      <td>Best fabric color and fitting Reviewed in Ind...</td>\n",
       "      <td>[(Best, n), (fabric, n), (color, n), (fitting,...</td>\n",
       "      <td>Best fabric color fitting Reviewed India Mar...</td>\n",
       "      <td>0.9468</td>\n",
       "      <td>Positive</td>\n",
       "    </tr>\n",
       "    <tr>\n",
       "      <th>5</th>\n",
       "      <td>It s not a black colour guys Reviewed in Indi...</td>\n",
       "      <td>[(black, a), (colour, n), (guys, n), (Reviewed...</td>\n",
       "      <td>black colour guy Reviewed India February Siz...</td>\n",
       "      <td>0.6486</td>\n",
       "      <td>Neutral</td>\n",
       "    </tr>\n",
       "    <tr>\n",
       "      <th>6</th>\n",
       "      <td>Very good fitting and color Reviewed in India...</td>\n",
       "      <td>[(good, a), (fitting, n), (color, n), (Reviewe...</td>\n",
       "      <td>good fitting color Reviewed India March Size...</td>\n",
       "      <td>0.8481</td>\n",
       "      <td>Positive</td>\n",
       "    </tr>\n",
       "    <tr>\n",
       "      <th>7</th>\n",
       "      <td>Expensive but good quality Reviewed in India ...</td>\n",
       "      <td>[(Expensive, a), (good, a), (quality, n), (Rev...</td>\n",
       "      <td>Expensive good quality Reviewed India March ...</td>\n",
       "      <td>0.6486</td>\n",
       "      <td>Neutral</td>\n",
       "    </tr>\n",
       "    <tr>\n",
       "      <th>8</th>\n",
       "      <td>Packaging Reviewed in India on March Size LCo...</td>\n",
       "      <td>[(Packaging, v), (Reviewed, v), (India, n), (M...</td>\n",
       "      <td>Packaging Reviewed India March Size LColour ...</td>\n",
       "      <td>-0.2732</td>\n",
       "      <td>Negative</td>\n",
       "    </tr>\n",
       "    <tr>\n",
       "      <th>9</th>\n",
       "      <td>Best polo t shirt Reviewed in India on March ...</td>\n",
       "      <td>[(Best, n), (polo, n), (shirt, n), (Reviewed, ...</td>\n",
       "      <td>Best polo shirt Reviewed India March Verifie...</td>\n",
       "      <td>0.8648</td>\n",
       "      <td>Positive</td>\n",
       "    </tr>\n",
       "    <tr>\n",
       "      <th>10</th>\n",
       "      <td>Perfect fit Reviewed in India on March Size X...</td>\n",
       "      <td>[(Perfect, a), (fit, n), (Reviewed, n), (India...</td>\n",
       "      <td>Perfect fit Reviewed India March Size XLColo...</td>\n",
       "      <td>0.9493</td>\n",
       "      <td>Positive</td>\n",
       "    </tr>\n",
       "    <tr>\n",
       "      <th>11</th>\n",
       "      <td>good product Reviewed in India on March Size ...</td>\n",
       "      <td>[(good, a), (product, n), (Reviewed, n), (Indi...</td>\n",
       "      <td>good product Reviewed India March Size XLCol...</td>\n",
       "      <td>0.9300</td>\n",
       "      <td>Positive</td>\n",
       "    </tr>\n",
       "    <tr>\n",
       "      <th>12</th>\n",
       "      <td>good product with bad packaging Reviewed in I...</td>\n",
       "      <td>[(good, a), (product, n), (bad, a), (packaging...</td>\n",
       "      <td>good product bad packaging Reviewed India Ma...</td>\n",
       "      <td>-0.1027</td>\n",
       "      <td>Negative</td>\n",
       "    </tr>\n",
       "    <tr>\n",
       "      <th>13</th>\n",
       "      <td>Size L is too big for me Please replace this ...</td>\n",
       "      <td>[(Size, n), (L, n), (big, a), (Please, n), (re...</td>\n",
       "      <td>Size L big Please replace item size Reviewed...</td>\n",
       "      <td>0.9206</td>\n",
       "      <td>Positive</td>\n",
       "    </tr>\n",
       "    <tr>\n",
       "      <th>14</th>\n",
       "      <td>Best fabric color and fitting Reviewed in Ind...</td>\n",
       "      <td>[(Best, n), (fabric, n), (color, n), (fitting,...</td>\n",
       "      <td>Best fabric color fitting Reviewed India Mar...</td>\n",
       "      <td>0.9468</td>\n",
       "      <td>Positive</td>\n",
       "    </tr>\n",
       "    <tr>\n",
       "      <th>15</th>\n",
       "      <td>It s not a black colour guys Reviewed in Indi...</td>\n",
       "      <td>[(black, a), (colour, n), (guys, n), (Reviewed...</td>\n",
       "      <td>black colour guy Reviewed India February Siz...</td>\n",
       "      <td>0.6486</td>\n",
       "      <td>Neutral</td>\n",
       "    </tr>\n",
       "    <tr>\n",
       "      <th>16</th>\n",
       "      <td>Very good fitting and color Reviewed in India...</td>\n",
       "      <td>[(good, a), (fitting, n), (color, n), (Reviewe...</td>\n",
       "      <td>good fitting color Reviewed India March Size...</td>\n",
       "      <td>0.8481</td>\n",
       "      <td>Positive</td>\n",
       "    </tr>\n",
       "    <tr>\n",
       "      <th>17</th>\n",
       "      <td>Expensive but good quality Reviewed in India ...</td>\n",
       "      <td>[(Expensive, a), (good, a), (quality, n), (Rev...</td>\n",
       "      <td>Expensive good quality Reviewed India March ...</td>\n",
       "      <td>0.6486</td>\n",
       "      <td>Neutral</td>\n",
       "    </tr>\n",
       "    <tr>\n",
       "      <th>18</th>\n",
       "      <td>Packaging Reviewed in India on March Size LCo...</td>\n",
       "      <td>[(Packaging, v), (Reviewed, v), (India, n), (M...</td>\n",
       "      <td>Packaging Reviewed India March Size LColour ...</td>\n",
       "      <td>-0.2732</td>\n",
       "      <td>Negative</td>\n",
       "    </tr>\n",
       "    <tr>\n",
       "      <th>19</th>\n",
       "      <td>Best polo t shirt Reviewed in India on March ...</td>\n",
       "      <td>[(Best, n), (polo, n), (shirt, n), (Reviewed, ...</td>\n",
       "      <td>Best polo shirt Reviewed India March Verifie...</td>\n",
       "      <td>0.8648</td>\n",
       "      <td>Positive</td>\n",
       "    </tr>\n",
       "    <tr>\n",
       "      <th>20</th>\n",
       "      <td>Perfect fit Reviewed in India on March Size X...</td>\n",
       "      <td>[(Perfect, a), (fit, n), (Reviewed, n), (India...</td>\n",
       "      <td>Perfect fit Reviewed India March Size XLColo...</td>\n",
       "      <td>0.9493</td>\n",
       "      <td>Positive</td>\n",
       "    </tr>\n",
       "    <tr>\n",
       "      <th>21</th>\n",
       "      <td>good product Reviewed in India on March Size ...</td>\n",
       "      <td>[(good, a), (product, n), (Reviewed, n), (Indi...</td>\n",
       "      <td>good product Reviewed India March Size XLCol...</td>\n",
       "      <td>0.9300</td>\n",
       "      <td>Positive</td>\n",
       "    </tr>\n",
       "    <tr>\n",
       "      <th>22</th>\n",
       "      <td>good product with bad packaging Reviewed in I...</td>\n",
       "      <td>[(good, a), (product, n), (bad, a), (packaging...</td>\n",
       "      <td>good product bad packaging Reviewed India Ma...</td>\n",
       "      <td>-0.1027</td>\n",
       "      <td>Negative</td>\n",
       "    </tr>\n",
       "    <tr>\n",
       "      <th>23</th>\n",
       "      <td>Size L is too big for me Please replace this ...</td>\n",
       "      <td>[(Size, n), (L, n), (big, a), (Please, n), (re...</td>\n",
       "      <td>Size L big Please replace item size Reviewed...</td>\n",
       "      <td>0.9206</td>\n",
       "      <td>Positive</td>\n",
       "    </tr>\n",
       "    <tr>\n",
       "      <th>24</th>\n",
       "      <td>Best fabric color and fitting Reviewed in Ind...</td>\n",
       "      <td>[(Best, n), (fabric, n), (color, n), (fitting,...</td>\n",
       "      <td>Best fabric color fitting Reviewed India Mar...</td>\n",
       "      <td>0.9468</td>\n",
       "      <td>Positive</td>\n",
       "    </tr>\n",
       "    <tr>\n",
       "      <th>25</th>\n",
       "      <td>It s not a black colour guys Reviewed in Indi...</td>\n",
       "      <td>[(black, a), (colour, n), (guys, n), (Reviewed...</td>\n",
       "      <td>black colour guy Reviewed India February Siz...</td>\n",
       "      <td>0.6486</td>\n",
       "      <td>Neutral</td>\n",
       "    </tr>\n",
       "    <tr>\n",
       "      <th>26</th>\n",
       "      <td>Very good fitting and color Reviewed in India...</td>\n",
       "      <td>[(good, a), (fitting, n), (color, n), (Reviewe...</td>\n",
       "      <td>good fitting color Reviewed India March Size...</td>\n",
       "      <td>0.8481</td>\n",
       "      <td>Positive</td>\n",
       "    </tr>\n",
       "    <tr>\n",
       "      <th>27</th>\n",
       "      <td>Expensive but good quality Reviewed in India ...</td>\n",
       "      <td>[(Expensive, a), (good, a), (quality, n), (Rev...</td>\n",
       "      <td>Expensive good quality Reviewed India March ...</td>\n",
       "      <td>0.6486</td>\n",
       "      <td>Neutral</td>\n",
       "    </tr>\n",
       "    <tr>\n",
       "      <th>28</th>\n",
       "      <td>Packaging Reviewed in India on March Size LCo...</td>\n",
       "      <td>[(Packaging, v), (Reviewed, v), (India, n), (M...</td>\n",
       "      <td>Packaging Reviewed India March Size LColour ...</td>\n",
       "      <td>-0.2732</td>\n",
       "      <td>Negative</td>\n",
       "    </tr>\n",
       "    <tr>\n",
       "      <th>29</th>\n",
       "      <td>Best polo t shirt Reviewed in India on March ...</td>\n",
       "      <td>[(Best, n), (polo, n), (shirt, n), (Reviewed, ...</td>\n",
       "      <td>Best polo shirt Reviewed India March Verifie...</td>\n",
       "      <td>0.8648</td>\n",
       "      <td>Positive</td>\n",
       "    </tr>\n",
       "    <tr>\n",
       "      <th>30</th>\n",
       "      <td>Perfect fit Reviewed in India on March Size X...</td>\n",
       "      <td>[(Perfect, a), (fit, n), (Reviewed, n), (India...</td>\n",
       "      <td>Perfect fit Reviewed India March Size XLColo...</td>\n",
       "      <td>0.9493</td>\n",
       "      <td>Positive</td>\n",
       "    </tr>\n",
       "    <tr>\n",
       "      <th>31</th>\n",
       "      <td>good product Reviewed in India on March Size ...</td>\n",
       "      <td>[(good, a), (product, n), (Reviewed, n), (Indi...</td>\n",
       "      <td>good product Reviewed India March Size XLCol...</td>\n",
       "      <td>0.9300</td>\n",
       "      <td>Positive</td>\n",
       "    </tr>\n",
       "    <tr>\n",
       "      <th>32</th>\n",
       "      <td>good product with bad packaging Reviewed in I...</td>\n",
       "      <td>[(good, a), (product, n), (bad, a), (packaging...</td>\n",
       "      <td>good product bad packaging Reviewed India Ma...</td>\n",
       "      <td>-0.1027</td>\n",
       "      <td>Negative</td>\n",
       "    </tr>\n",
       "    <tr>\n",
       "      <th>33</th>\n",
       "      <td>Size L is too big for me Please replace this ...</td>\n",
       "      <td>[(Size, n), (L, n), (big, a), (Please, n), (re...</td>\n",
       "      <td>Size L big Please replace item size Reviewed...</td>\n",
       "      <td>0.9206</td>\n",
       "      <td>Positive</td>\n",
       "    </tr>\n",
       "    <tr>\n",
       "      <th>34</th>\n",
       "      <td>Best fabric color and fitting Reviewed in Ind...</td>\n",
       "      <td>[(Best, n), (fabric, n), (color, n), (fitting,...</td>\n",
       "      <td>Best fabric color fitting Reviewed India Mar...</td>\n",
       "      <td>0.9468</td>\n",
       "      <td>Positive</td>\n",
       "    </tr>\n",
       "    <tr>\n",
       "      <th>35</th>\n",
       "      <td>It s not a black colour guys Reviewed in Indi...</td>\n",
       "      <td>[(black, a), (colour, n), (guys, n), (Reviewed...</td>\n",
       "      <td>black colour guy Reviewed India February Siz...</td>\n",
       "      <td>0.6486</td>\n",
       "      <td>Neutral</td>\n",
       "    </tr>\n",
       "    <tr>\n",
       "      <th>36</th>\n",
       "      <td>Very good fitting and color Reviewed in India...</td>\n",
       "      <td>[(good, a), (fitting, n), (color, n), (Reviewe...</td>\n",
       "      <td>good fitting color Reviewed India March Size...</td>\n",
       "      <td>0.8481</td>\n",
       "      <td>Positive</td>\n",
       "    </tr>\n",
       "    <tr>\n",
       "      <th>37</th>\n",
       "      <td>Expensive but good quality Reviewed in India ...</td>\n",
       "      <td>[(Expensive, a), (good, a), (quality, n), (Rev...</td>\n",
       "      <td>Expensive good quality Reviewed India March ...</td>\n",
       "      <td>0.6486</td>\n",
       "      <td>Neutral</td>\n",
       "    </tr>\n",
       "    <tr>\n",
       "      <th>38</th>\n",
       "      <td>Packaging Reviewed in India on March Size LCo...</td>\n",
       "      <td>[(Packaging, v), (Reviewed, v), (India, n), (M...</td>\n",
       "      <td>Packaging Reviewed India March Size LColour ...</td>\n",
       "      <td>-0.2732</td>\n",
       "      <td>Negative</td>\n",
       "    </tr>\n",
       "    <tr>\n",
       "      <th>39</th>\n",
       "      <td>Best polo t shirt Reviewed in India on March ...</td>\n",
       "      <td>[(Best, n), (polo, n), (shirt, n), (Reviewed, ...</td>\n",
       "      <td>Best polo shirt Reviewed India March Verifie...</td>\n",
       "      <td>0.8648</td>\n",
       "      <td>Positive</td>\n",
       "    </tr>\n",
       "    <tr>\n",
       "      <th>40</th>\n",
       "      <td>Perfect fit Reviewed in India on March Size X...</td>\n",
       "      <td>[(Perfect, a), (fit, n), (Reviewed, n), (India...</td>\n",
       "      <td>Perfect fit Reviewed India March Size XLColo...</td>\n",
       "      <td>0.9493</td>\n",
       "      <td>Positive</td>\n",
       "    </tr>\n",
       "    <tr>\n",
       "      <th>41</th>\n",
       "      <td>good product Reviewed in India on March Size ...</td>\n",
       "      <td>[(good, a), (product, n), (Reviewed, n), (Indi...</td>\n",
       "      <td>good product Reviewed India March Size XLCol...</td>\n",
       "      <td>0.9300</td>\n",
       "      <td>Positive</td>\n",
       "    </tr>\n",
       "    <tr>\n",
       "      <th>42</th>\n",
       "      <td>good product with bad packaging Reviewed in I...</td>\n",
       "      <td>[(good, a), (product, n), (bad, a), (packaging...</td>\n",
       "      <td>good product bad packaging Reviewed India Ma...</td>\n",
       "      <td>-0.1027</td>\n",
       "      <td>Negative</td>\n",
       "    </tr>\n",
       "    <tr>\n",
       "      <th>43</th>\n",
       "      <td>Size L is too big for me Please replace this ...</td>\n",
       "      <td>[(Size, n), (L, n), (big, a), (Please, n), (re...</td>\n",
       "      <td>Size L big Please replace item size Reviewed...</td>\n",
       "      <td>0.9206</td>\n",
       "      <td>Positive</td>\n",
       "    </tr>\n",
       "    <tr>\n",
       "      <th>44</th>\n",
       "      <td>Best fabric color and fitting Reviewed in Ind...</td>\n",
       "      <td>[(Best, n), (fabric, n), (color, n), (fitting,...</td>\n",
       "      <td>Best fabric color fitting Reviewed India Mar...</td>\n",
       "      <td>0.9468</td>\n",
       "      <td>Positive</td>\n",
       "    </tr>\n",
       "    <tr>\n",
       "      <th>45</th>\n",
       "      <td>It s not a black colour guys Reviewed in Indi...</td>\n",
       "      <td>[(black, a), (colour, n), (guys, n), (Reviewed...</td>\n",
       "      <td>black colour guy Reviewed India February Siz...</td>\n",
       "      <td>0.6486</td>\n",
       "      <td>Neutral</td>\n",
       "    </tr>\n",
       "    <tr>\n",
       "      <th>46</th>\n",
       "      <td>Very good fitting and color Reviewed in India...</td>\n",
       "      <td>[(good, a), (fitting, n), (color, n), (Reviewe...</td>\n",
       "      <td>good fitting color Reviewed India March Size...</td>\n",
       "      <td>0.8481</td>\n",
       "      <td>Positive</td>\n",
       "    </tr>\n",
       "    <tr>\n",
       "      <th>47</th>\n",
       "      <td>Expensive but good quality Reviewed in India ...</td>\n",
       "      <td>[(Expensive, a), (good, a), (quality, n), (Rev...</td>\n",
       "      <td>Expensive good quality Reviewed India March ...</td>\n",
       "      <td>0.6486</td>\n",
       "      <td>Neutral</td>\n",
       "    </tr>\n",
       "    <tr>\n",
       "      <th>48</th>\n",
       "      <td>Packaging Reviewed in India on March Size LCo...</td>\n",
       "      <td>[(Packaging, v), (Reviewed, v), (India, n), (M...</td>\n",
       "      <td>Packaging Reviewed India March Size LColour ...</td>\n",
       "      <td>-0.2732</td>\n",
       "      <td>Negative</td>\n",
       "    </tr>\n",
       "    <tr>\n",
       "      <th>49</th>\n",
       "      <td>Best polo t shirt Reviewed in India on March ...</td>\n",
       "      <td>[(Best, n), (polo, n), (shirt, n), (Reviewed, ...</td>\n",
       "      <td>Best polo shirt Reviewed India March Verifie...</td>\n",
       "      <td>0.8648</td>\n",
       "      <td>Positive</td>\n",
       "    </tr>\n",
       "  </tbody>\n",
       "</table>\n",
       "</div>"
      ],
      "text/plain": [
       "                                      cleaned reviews  \\\n",
       "0    Perfect fit Reviewed in India on March Size X...   \n",
       "1    good product Reviewed in India on March Size ...   \n",
       "2    good product with bad packaging Reviewed in I...   \n",
       "3    Size L is too big for me Please replace this ...   \n",
       "4    Best fabric color and fitting Reviewed in Ind...   \n",
       "5    It s not a black colour guys Reviewed in Indi...   \n",
       "6    Very good fitting and color Reviewed in India...   \n",
       "7    Expensive but good quality Reviewed in India ...   \n",
       "8    Packaging Reviewed in India on March Size LCo...   \n",
       "9    Best polo t shirt Reviewed in India on March ...   \n",
       "10   Perfect fit Reviewed in India on March Size X...   \n",
       "11   good product Reviewed in India on March Size ...   \n",
       "12   good product with bad packaging Reviewed in I...   \n",
       "13   Size L is too big for me Please replace this ...   \n",
       "14   Best fabric color and fitting Reviewed in Ind...   \n",
       "15   It s not a black colour guys Reviewed in Indi...   \n",
       "16   Very good fitting and color Reviewed in India...   \n",
       "17   Expensive but good quality Reviewed in India ...   \n",
       "18   Packaging Reviewed in India on March Size LCo...   \n",
       "19   Best polo t shirt Reviewed in India on March ...   \n",
       "20   Perfect fit Reviewed in India on March Size X...   \n",
       "21   good product Reviewed in India on March Size ...   \n",
       "22   good product with bad packaging Reviewed in I...   \n",
       "23   Size L is too big for me Please replace this ...   \n",
       "24   Best fabric color and fitting Reviewed in Ind...   \n",
       "25   It s not a black colour guys Reviewed in Indi...   \n",
       "26   Very good fitting and color Reviewed in India...   \n",
       "27   Expensive but good quality Reviewed in India ...   \n",
       "28   Packaging Reviewed in India on March Size LCo...   \n",
       "29   Best polo t shirt Reviewed in India on March ...   \n",
       "30   Perfect fit Reviewed in India on March Size X...   \n",
       "31   good product Reviewed in India on March Size ...   \n",
       "32   good product with bad packaging Reviewed in I...   \n",
       "33   Size L is too big for me Please replace this ...   \n",
       "34   Best fabric color and fitting Reviewed in Ind...   \n",
       "35   It s not a black colour guys Reviewed in Indi...   \n",
       "36   Very good fitting and color Reviewed in India...   \n",
       "37   Expensive but good quality Reviewed in India ...   \n",
       "38   Packaging Reviewed in India on March Size LCo...   \n",
       "39   Best polo t shirt Reviewed in India on March ...   \n",
       "40   Perfect fit Reviewed in India on March Size X...   \n",
       "41   good product Reviewed in India on March Size ...   \n",
       "42   good product with bad packaging Reviewed in I...   \n",
       "43   Size L is too big for me Please replace this ...   \n",
       "44   Best fabric color and fitting Reviewed in Ind...   \n",
       "45   It s not a black colour guys Reviewed in Indi...   \n",
       "46   Very good fitting and color Reviewed in India...   \n",
       "47   Expensive but good quality Reviewed in India ...   \n",
       "48   Packaging Reviewed in India on March Size LCo...   \n",
       "49   Best polo t shirt Reviewed in India on March ...   \n",
       "\n",
       "                                           POS tagged  \\\n",
       "0   [(Perfect, a), (fit, n), (Reviewed, n), (India...   \n",
       "1   [(good, a), (product, n), (Reviewed, n), (Indi...   \n",
       "2   [(good, a), (product, n), (bad, a), (packaging...   \n",
       "3   [(Size, n), (L, n), (big, a), (Please, n), (re...   \n",
       "4   [(Best, n), (fabric, n), (color, n), (fitting,...   \n",
       "5   [(black, a), (colour, n), (guys, n), (Reviewed...   \n",
       "6   [(good, a), (fitting, n), (color, n), (Reviewe...   \n",
       "7   [(Expensive, a), (good, a), (quality, n), (Rev...   \n",
       "8   [(Packaging, v), (Reviewed, v), (India, n), (M...   \n",
       "9   [(Best, n), (polo, n), (shirt, n), (Reviewed, ...   \n",
       "10  [(Perfect, a), (fit, n), (Reviewed, n), (India...   \n",
       "11  [(good, a), (product, n), (Reviewed, n), (Indi...   \n",
       "12  [(good, a), (product, n), (bad, a), (packaging...   \n",
       "13  [(Size, n), (L, n), (big, a), (Please, n), (re...   \n",
       "14  [(Best, n), (fabric, n), (color, n), (fitting,...   \n",
       "15  [(black, a), (colour, n), (guys, n), (Reviewed...   \n",
       "16  [(good, a), (fitting, n), (color, n), (Reviewe...   \n",
       "17  [(Expensive, a), (good, a), (quality, n), (Rev...   \n",
       "18  [(Packaging, v), (Reviewed, v), (India, n), (M...   \n",
       "19  [(Best, n), (polo, n), (shirt, n), (Reviewed, ...   \n",
       "20  [(Perfect, a), (fit, n), (Reviewed, n), (India...   \n",
       "21  [(good, a), (product, n), (Reviewed, n), (Indi...   \n",
       "22  [(good, a), (product, n), (bad, a), (packaging...   \n",
       "23  [(Size, n), (L, n), (big, a), (Please, n), (re...   \n",
       "24  [(Best, n), (fabric, n), (color, n), (fitting,...   \n",
       "25  [(black, a), (colour, n), (guys, n), (Reviewed...   \n",
       "26  [(good, a), (fitting, n), (color, n), (Reviewe...   \n",
       "27  [(Expensive, a), (good, a), (quality, n), (Rev...   \n",
       "28  [(Packaging, v), (Reviewed, v), (India, n), (M...   \n",
       "29  [(Best, n), (polo, n), (shirt, n), (Reviewed, ...   \n",
       "30  [(Perfect, a), (fit, n), (Reviewed, n), (India...   \n",
       "31  [(good, a), (product, n), (Reviewed, n), (Indi...   \n",
       "32  [(good, a), (product, n), (bad, a), (packaging...   \n",
       "33  [(Size, n), (L, n), (big, a), (Please, n), (re...   \n",
       "34  [(Best, n), (fabric, n), (color, n), (fitting,...   \n",
       "35  [(black, a), (colour, n), (guys, n), (Reviewed...   \n",
       "36  [(good, a), (fitting, n), (color, n), (Reviewe...   \n",
       "37  [(Expensive, a), (good, a), (quality, n), (Rev...   \n",
       "38  [(Packaging, v), (Reviewed, v), (India, n), (M...   \n",
       "39  [(Best, n), (polo, n), (shirt, n), (Reviewed, ...   \n",
       "40  [(Perfect, a), (fit, n), (Reviewed, n), (India...   \n",
       "41  [(good, a), (product, n), (Reviewed, n), (Indi...   \n",
       "42  [(good, a), (product, n), (bad, a), (packaging...   \n",
       "43  [(Size, n), (L, n), (big, a), (Please, n), (re...   \n",
       "44  [(Best, n), (fabric, n), (color, n), (fitting,...   \n",
       "45  [(black, a), (colour, n), (guys, n), (Reviewed...   \n",
       "46  [(good, a), (fitting, n), (color, n), (Reviewe...   \n",
       "47  [(Expensive, a), (good, a), (quality, n), (Rev...   \n",
       "48  [(Packaging, v), (Reviewed, v), (India, n), (M...   \n",
       "49  [(Best, n), (polo, n), (shirt, n), (Reviewed, ...   \n",
       "\n",
       "                                                Lemma  Sentiment  Analysis  \n",
       "0     Perfect fit Reviewed India March Size XLColo...     0.9493  Positive  \n",
       "1     good product Reviewed India March Size XLCol...     0.9300  Positive  \n",
       "2     good product bad packaging Reviewed India Ma...    -0.1027  Negative  \n",
       "3     Size L big Please replace item size Reviewed...     0.9206  Positive  \n",
       "4     Best fabric color fitting Reviewed India Mar...     0.9468  Positive  \n",
       "5     black colour guy Reviewed India February Siz...     0.6486   Neutral  \n",
       "6     good fitting color Reviewed India March Size...     0.8481  Positive  \n",
       "7     Expensive good quality Reviewed India March ...     0.6486   Neutral  \n",
       "8     Packaging Reviewed India March Size LColour ...    -0.2732  Negative  \n",
       "9     Best polo shirt Reviewed India March Verifie...     0.8648  Positive  \n",
       "10    Perfect fit Reviewed India March Size XLColo...     0.9493  Positive  \n",
       "11    good product Reviewed India March Size XLCol...     0.9300  Positive  \n",
       "12    good product bad packaging Reviewed India Ma...    -0.1027  Negative  \n",
       "13    Size L big Please replace item size Reviewed...     0.9206  Positive  \n",
       "14    Best fabric color fitting Reviewed India Mar...     0.9468  Positive  \n",
       "15    black colour guy Reviewed India February Siz...     0.6486   Neutral  \n",
       "16    good fitting color Reviewed India March Size...     0.8481  Positive  \n",
       "17    Expensive good quality Reviewed India March ...     0.6486   Neutral  \n",
       "18    Packaging Reviewed India March Size LColour ...    -0.2732  Negative  \n",
       "19    Best polo shirt Reviewed India March Verifie...     0.8648  Positive  \n",
       "20    Perfect fit Reviewed India March Size XLColo...     0.9493  Positive  \n",
       "21    good product Reviewed India March Size XLCol...     0.9300  Positive  \n",
       "22    good product bad packaging Reviewed India Ma...    -0.1027  Negative  \n",
       "23    Size L big Please replace item size Reviewed...     0.9206  Positive  \n",
       "24    Best fabric color fitting Reviewed India Mar...     0.9468  Positive  \n",
       "25    black colour guy Reviewed India February Siz...     0.6486   Neutral  \n",
       "26    good fitting color Reviewed India March Size...     0.8481  Positive  \n",
       "27    Expensive good quality Reviewed India March ...     0.6486   Neutral  \n",
       "28    Packaging Reviewed India March Size LColour ...    -0.2732  Negative  \n",
       "29    Best polo shirt Reviewed India March Verifie...     0.8648  Positive  \n",
       "30    Perfect fit Reviewed India March Size XLColo...     0.9493  Positive  \n",
       "31    good product Reviewed India March Size XLCol...     0.9300  Positive  \n",
       "32    good product bad packaging Reviewed India Ma...    -0.1027  Negative  \n",
       "33    Size L big Please replace item size Reviewed...     0.9206  Positive  \n",
       "34    Best fabric color fitting Reviewed India Mar...     0.9468  Positive  \n",
       "35    black colour guy Reviewed India February Siz...     0.6486   Neutral  \n",
       "36    good fitting color Reviewed India March Size...     0.8481  Positive  \n",
       "37    Expensive good quality Reviewed India March ...     0.6486   Neutral  \n",
       "38    Packaging Reviewed India March Size LColour ...    -0.2732  Negative  \n",
       "39    Best polo shirt Reviewed India March Verifie...     0.8648  Positive  \n",
       "40    Perfect fit Reviewed India March Size XLColo...     0.9493  Positive  \n",
       "41    good product Reviewed India March Size XLCol...     0.9300  Positive  \n",
       "42    good product bad packaging Reviewed India Ma...    -0.1027  Negative  \n",
       "43    Size L big Please replace item size Reviewed...     0.9206  Positive  \n",
       "44    Best fabric color fitting Reviewed India Mar...     0.9468  Positive  \n",
       "45    black colour guy Reviewed India February Siz...     0.6486   Neutral  \n",
       "46    good fitting color Reviewed India March Size...     0.8481  Positive  \n",
       "47    Expensive good quality Reviewed India March ...     0.6486   Neutral  \n",
       "48    Packaging Reviewed India March Size LColour ...    -0.2732  Negative  \n",
       "49    Best polo shirt Reviewed India March Verifie...     0.8648  Positive  "
      ]
     },
     "execution_count": 10,
     "metadata": {},
     "output_type": "execute_result"
    }
   ],
   "source": [
    "# ANALYZING THE SENTIMENT OF THE REVIEWS AND GIVING IT A SCORE\n",
    "analyzer = SentimentIntensityAnalyzer()\n",
    "def vadersentimentanalysis(review):\n",
    "    vs = analyzer.polarity_scores(review)\n",
    "    return vs['compound']\n",
    "df1['Sentiment'] = df1['Lemma'].apply(vadersentimentanalysis)\n",
    "def vader_analysis(compound):\n",
    "    if compound >= 0.7:\n",
    "        return 'Positive'\n",
    "    elif compound < 0.4 :\n",
    "        return 'Negative'\n",
    "    else:\n",
    "        return 'Neutral'\n",
    "df1['Analysis'] = df1['Sentiment'].apply(vader_analysis)\n",
    "df1"
   ]
  },
  {
   "cell_type": "code",
   "execution_count": 21,
   "metadata": {},
   "outputs": [
    {
     "data": {
      "application/vnd.plotly.v1+json": {
       "config": {
        "plotlyServerURL": "https://plot.ly"
       },
       "data": [
        {
         "domain": {
          "x": [
           0,
           1
          ],
          "y": [
           0,
           1
          ]
         },
         "hovertemplate": "Analysis=%{label}<extra></extra>",
         "labels": [
          "Positive",
          "Positive",
          "Negative",
          "Positive",
          "Positive",
          "Neutral",
          "Positive",
          "Neutral",
          "Negative",
          "Positive",
          "Positive",
          "Positive",
          "Negative",
          "Positive",
          "Positive",
          "Neutral",
          "Positive",
          "Neutral",
          "Negative",
          "Positive",
          "Positive",
          "Positive",
          "Negative",
          "Positive",
          "Positive",
          "Neutral",
          "Positive",
          "Neutral",
          "Negative",
          "Positive",
          "Positive",
          "Positive",
          "Negative",
          "Positive",
          "Positive",
          "Neutral",
          "Positive",
          "Neutral",
          "Negative",
          "Positive",
          "Positive",
          "Positive",
          "Negative",
          "Positive",
          "Positive",
          "Neutral",
          "Positive",
          "Neutral",
          "Negative",
          "Positive"
         ],
         "legendgroup": "",
         "name": "",
         "showlegend": true,
         "textfont": {
          "size": 30
         },
         "type": "pie"
        }
       ],
       "layout": {
        "height": 768,
        "legend": {
         "font": {
          "size": 30
         },
         "tracegroupgap": 0
        },
        "piecolorway": [
         "rgb(179,226,205)",
         "rgb(253,205,172)",
         "rgb(203,213,232)",
         "rgb(244,202,228)",
         "rgb(230,245,201)",
         "rgb(255,242,174)",
         "rgb(241,226,204)",
         "rgb(204,204,204)"
        ],
        "template": {
         "data": {
          "bar": [
           {
            "error_x": {
             "color": "#2a3f5f"
            },
            "error_y": {
             "color": "#2a3f5f"
            },
            "marker": {
             "line": {
              "color": "#E5ECF6",
              "width": 0.5
             },
             "pattern": {
              "fillmode": "overlay",
              "size": 10,
              "solidity": 0.2
             }
            },
            "type": "bar"
           }
          ],
          "barpolar": [
           {
            "marker": {
             "line": {
              "color": "#E5ECF6",
              "width": 0.5
             },
             "pattern": {
              "fillmode": "overlay",
              "size": 10,
              "solidity": 0.2
             }
            },
            "type": "barpolar"
           }
          ],
          "carpet": [
           {
            "aaxis": {
             "endlinecolor": "#2a3f5f",
             "gridcolor": "white",
             "linecolor": "white",
             "minorgridcolor": "white",
             "startlinecolor": "#2a3f5f"
            },
            "baxis": {
             "endlinecolor": "#2a3f5f",
             "gridcolor": "white",
             "linecolor": "white",
             "minorgridcolor": "white",
             "startlinecolor": "#2a3f5f"
            },
            "type": "carpet"
           }
          ],
          "choropleth": [
           {
            "colorbar": {
             "outlinewidth": 0,
             "ticks": ""
            },
            "type": "choropleth"
           }
          ],
          "contour": [
           {
            "colorbar": {
             "outlinewidth": 0,
             "ticks": ""
            },
            "colorscale": [
             [
              0,
              "#0d0887"
             ],
             [
              0.1111111111111111,
              "#46039f"
             ],
             [
              0.2222222222222222,
              "#7201a8"
             ],
             [
              0.3333333333333333,
              "#9c179e"
             ],
             [
              0.4444444444444444,
              "#bd3786"
             ],
             [
              0.5555555555555556,
              "#d8576b"
             ],
             [
              0.6666666666666666,
              "#ed7953"
             ],
             [
              0.7777777777777778,
              "#fb9f3a"
             ],
             [
              0.8888888888888888,
              "#fdca26"
             ],
             [
              1,
              "#f0f921"
             ]
            ],
            "type": "contour"
           }
          ],
          "contourcarpet": [
           {
            "colorbar": {
             "outlinewidth": 0,
             "ticks": ""
            },
            "type": "contourcarpet"
           }
          ],
          "heatmap": [
           {
            "colorbar": {
             "outlinewidth": 0,
             "ticks": ""
            },
            "colorscale": [
             [
              0,
              "#0d0887"
             ],
             [
              0.1111111111111111,
              "#46039f"
             ],
             [
              0.2222222222222222,
              "#7201a8"
             ],
             [
              0.3333333333333333,
              "#9c179e"
             ],
             [
              0.4444444444444444,
              "#bd3786"
             ],
             [
              0.5555555555555556,
              "#d8576b"
             ],
             [
              0.6666666666666666,
              "#ed7953"
             ],
             [
              0.7777777777777778,
              "#fb9f3a"
             ],
             [
              0.8888888888888888,
              "#fdca26"
             ],
             [
              1,
              "#f0f921"
             ]
            ],
            "type": "heatmap"
           }
          ],
          "heatmapgl": [
           {
            "colorbar": {
             "outlinewidth": 0,
             "ticks": ""
            },
            "colorscale": [
             [
              0,
              "#0d0887"
             ],
             [
              0.1111111111111111,
              "#46039f"
             ],
             [
              0.2222222222222222,
              "#7201a8"
             ],
             [
              0.3333333333333333,
              "#9c179e"
             ],
             [
              0.4444444444444444,
              "#bd3786"
             ],
             [
              0.5555555555555556,
              "#d8576b"
             ],
             [
              0.6666666666666666,
              "#ed7953"
             ],
             [
              0.7777777777777778,
              "#fb9f3a"
             ],
             [
              0.8888888888888888,
              "#fdca26"
             ],
             [
              1,
              "#f0f921"
             ]
            ],
            "type": "heatmapgl"
           }
          ],
          "histogram": [
           {
            "marker": {
             "pattern": {
              "fillmode": "overlay",
              "size": 10,
              "solidity": 0.2
             }
            },
            "type": "histogram"
           }
          ],
          "histogram2d": [
           {
            "colorbar": {
             "outlinewidth": 0,
             "ticks": ""
            },
            "colorscale": [
             [
              0,
              "#0d0887"
             ],
             [
              0.1111111111111111,
              "#46039f"
             ],
             [
              0.2222222222222222,
              "#7201a8"
             ],
             [
              0.3333333333333333,
              "#9c179e"
             ],
             [
              0.4444444444444444,
              "#bd3786"
             ],
             [
              0.5555555555555556,
              "#d8576b"
             ],
             [
              0.6666666666666666,
              "#ed7953"
             ],
             [
              0.7777777777777778,
              "#fb9f3a"
             ],
             [
              0.8888888888888888,
              "#fdca26"
             ],
             [
              1,
              "#f0f921"
             ]
            ],
            "type": "histogram2d"
           }
          ],
          "histogram2dcontour": [
           {
            "colorbar": {
             "outlinewidth": 0,
             "ticks": ""
            },
            "colorscale": [
             [
              0,
              "#0d0887"
             ],
             [
              0.1111111111111111,
              "#46039f"
             ],
             [
              0.2222222222222222,
              "#7201a8"
             ],
             [
              0.3333333333333333,
              "#9c179e"
             ],
             [
              0.4444444444444444,
              "#bd3786"
             ],
             [
              0.5555555555555556,
              "#d8576b"
             ],
             [
              0.6666666666666666,
              "#ed7953"
             ],
             [
              0.7777777777777778,
              "#fb9f3a"
             ],
             [
              0.8888888888888888,
              "#fdca26"
             ],
             [
              1,
              "#f0f921"
             ]
            ],
            "type": "histogram2dcontour"
           }
          ],
          "mesh3d": [
           {
            "colorbar": {
             "outlinewidth": 0,
             "ticks": ""
            },
            "type": "mesh3d"
           }
          ],
          "parcoords": [
           {
            "line": {
             "colorbar": {
              "outlinewidth": 0,
              "ticks": ""
             }
            },
            "type": "parcoords"
           }
          ],
          "pie": [
           {
            "automargin": true,
            "type": "pie"
           }
          ],
          "scatter": [
           {
            "fillpattern": {
             "fillmode": "overlay",
             "size": 10,
             "solidity": 0.2
            },
            "type": "scatter"
           }
          ],
          "scatter3d": [
           {
            "line": {
             "colorbar": {
              "outlinewidth": 0,
              "ticks": ""
             }
            },
            "marker": {
             "colorbar": {
              "outlinewidth": 0,
              "ticks": ""
             }
            },
            "type": "scatter3d"
           }
          ],
          "scattercarpet": [
           {
            "marker": {
             "colorbar": {
              "outlinewidth": 0,
              "ticks": ""
             }
            },
            "type": "scattercarpet"
           }
          ],
          "scattergeo": [
           {
            "marker": {
             "colorbar": {
              "outlinewidth": 0,
              "ticks": ""
             }
            },
            "type": "scattergeo"
           }
          ],
          "scattergl": [
           {
            "marker": {
             "colorbar": {
              "outlinewidth": 0,
              "ticks": ""
             }
            },
            "type": "scattergl"
           }
          ],
          "scattermapbox": [
           {
            "marker": {
             "colorbar": {
              "outlinewidth": 0,
              "ticks": ""
             }
            },
            "type": "scattermapbox"
           }
          ],
          "scatterpolar": [
           {
            "marker": {
             "colorbar": {
              "outlinewidth": 0,
              "ticks": ""
             }
            },
            "type": "scatterpolar"
           }
          ],
          "scatterpolargl": [
           {
            "marker": {
             "colorbar": {
              "outlinewidth": 0,
              "ticks": ""
             }
            },
            "type": "scatterpolargl"
           }
          ],
          "scatterternary": [
           {
            "marker": {
             "colorbar": {
              "outlinewidth": 0,
              "ticks": ""
             }
            },
            "type": "scatterternary"
           }
          ],
          "surface": [
           {
            "colorbar": {
             "outlinewidth": 0,
             "ticks": ""
            },
            "colorscale": [
             [
              0,
              "#0d0887"
             ],
             [
              0.1111111111111111,
              "#46039f"
             ],
             [
              0.2222222222222222,
              "#7201a8"
             ],
             [
              0.3333333333333333,
              "#9c179e"
             ],
             [
              0.4444444444444444,
              "#bd3786"
             ],
             [
              0.5555555555555556,
              "#d8576b"
             ],
             [
              0.6666666666666666,
              "#ed7953"
             ],
             [
              0.7777777777777778,
              "#fb9f3a"
             ],
             [
              0.8888888888888888,
              "#fdca26"
             ],
             [
              1,
              "#f0f921"
             ]
            ],
            "type": "surface"
           }
          ],
          "table": [
           {
            "cells": {
             "fill": {
              "color": "#EBF0F8"
             },
             "line": {
              "color": "white"
             }
            },
            "header": {
             "fill": {
              "color": "#C8D4E3"
             },
             "line": {
              "color": "white"
             }
            },
            "type": "table"
           }
          ]
         },
         "layout": {
          "annotationdefaults": {
           "arrowcolor": "#2a3f5f",
           "arrowhead": 0,
           "arrowwidth": 1
          },
          "autotypenumbers": "strict",
          "coloraxis": {
           "colorbar": {
            "outlinewidth": 0,
            "ticks": ""
           }
          },
          "colorscale": {
           "diverging": [
            [
             0,
             "#8e0152"
            ],
            [
             0.1,
             "#c51b7d"
            ],
            [
             0.2,
             "#de77ae"
            ],
            [
             0.3,
             "#f1b6da"
            ],
            [
             0.4,
             "#fde0ef"
            ],
            [
             0.5,
             "#f7f7f7"
            ],
            [
             0.6,
             "#e6f5d0"
            ],
            [
             0.7,
             "#b8e186"
            ],
            [
             0.8,
             "#7fbc41"
            ],
            [
             0.9,
             "#4d9221"
            ],
            [
             1,
             "#276419"
            ]
           ],
           "sequential": [
            [
             0,
             "#0d0887"
            ],
            [
             0.1111111111111111,
             "#46039f"
            ],
            [
             0.2222222222222222,
             "#7201a8"
            ],
            [
             0.3333333333333333,
             "#9c179e"
            ],
            [
             0.4444444444444444,
             "#bd3786"
            ],
            [
             0.5555555555555556,
             "#d8576b"
            ],
            [
             0.6666666666666666,
             "#ed7953"
            ],
            [
             0.7777777777777778,
             "#fb9f3a"
            ],
            [
             0.8888888888888888,
             "#fdca26"
            ],
            [
             1,
             "#f0f921"
            ]
           ],
           "sequentialminus": [
            [
             0,
             "#0d0887"
            ],
            [
             0.1111111111111111,
             "#46039f"
            ],
            [
             0.2222222222222222,
             "#7201a8"
            ],
            [
             0.3333333333333333,
             "#9c179e"
            ],
            [
             0.4444444444444444,
             "#bd3786"
            ],
            [
             0.5555555555555556,
             "#d8576b"
            ],
            [
             0.6666666666666666,
             "#ed7953"
            ],
            [
             0.7777777777777778,
             "#fb9f3a"
            ],
            [
             0.8888888888888888,
             "#fdca26"
            ],
            [
             1,
             "#f0f921"
            ]
           ]
          },
          "colorway": [
           "#636efa",
           "#EF553B",
           "#00cc96",
           "#ab63fa",
           "#FFA15A",
           "#19d3f3",
           "#FF6692",
           "#B6E880",
           "#FF97FF",
           "#FECB52"
          ],
          "font": {
           "color": "#2a3f5f"
          },
          "geo": {
           "bgcolor": "white",
           "lakecolor": "white",
           "landcolor": "#E5ECF6",
           "showlakes": true,
           "showland": true,
           "subunitcolor": "white"
          },
          "hoverlabel": {
           "align": "left"
          },
          "hovermode": "closest",
          "mapbox": {
           "style": "light"
          },
          "paper_bgcolor": "white",
          "plot_bgcolor": "#E5ECF6",
          "polar": {
           "angularaxis": {
            "gridcolor": "white",
            "linecolor": "white",
            "ticks": ""
           },
           "bgcolor": "#E5ECF6",
           "radialaxis": {
            "gridcolor": "white",
            "linecolor": "white",
            "ticks": ""
           }
          },
          "scene": {
           "xaxis": {
            "backgroundcolor": "#E5ECF6",
            "gridcolor": "white",
            "gridwidth": 2,
            "linecolor": "white",
            "showbackground": true,
            "ticks": "",
            "zerolinecolor": "white"
           },
           "yaxis": {
            "backgroundcolor": "#E5ECF6",
            "gridcolor": "white",
            "gridwidth": 2,
            "linecolor": "white",
            "showbackground": true,
            "ticks": "",
            "zerolinecolor": "white"
           },
           "zaxis": {
            "backgroundcolor": "#E5ECF6",
            "gridcolor": "white",
            "gridwidth": 2,
            "linecolor": "white",
            "showbackground": true,
            "ticks": "",
            "zerolinecolor": "white"
           }
          },
          "shapedefaults": {
           "line": {
            "color": "#2a3f5f"
           }
          },
          "ternary": {
           "aaxis": {
            "gridcolor": "white",
            "linecolor": "white",
            "ticks": ""
           },
           "baxis": {
            "gridcolor": "white",
            "linecolor": "white",
            "ticks": ""
           },
           "bgcolor": "#E5ECF6",
           "caxis": {
            "gridcolor": "white",
            "linecolor": "white",
            "ticks": ""
           }
          },
          "title": {
           "x": 0.05
          },
          "xaxis": {
           "automargin": true,
           "gridcolor": "white",
           "linecolor": "white",
           "ticks": "",
           "title": {
            "standoff": 15
           },
           "zerolinecolor": "white",
           "zerolinewidth": 2
          },
          "yaxis": {
           "automargin": true,
           "gridcolor": "white",
           "linecolor": "white",
           "ticks": "",
           "title": {
            "standoff": 15
           },
           "zerolinecolor": "white",
           "zerolinewidth": 2
          }
         }
        },
        "title": {
         "font": {
          "size": 30
         },
         "text": "Review Analysis"
        },
        "width": 1024
       }
      }
     },
     "metadata": {},
     "output_type": "display_data"
    }
   ],
   "source": [
    "# PLOTTING RESULT IN PIE-CHART\n",
    "fig=px.pie(df1, df1[\"Analysis\"], title=\"Review Analysis\", color_discrete_sequence=px.colors.qualitative.Pastel2, width=1024, height=768)\n",
    "fig.update_layout(title_font_size=30)\n",
    "fig.update_layout(legend=dict(font=dict(size= 30)))\n",
    "fig.update_traces(textfont_size=30)\n",
    "fig.show()"
   ]
  }
 ],
 "metadata": {
  "kernelspec": {
   "display_name": "Python 3",
   "language": "python",
   "name": "python3"
  },
  "language_info": {
   "codemirror_mode": {
    "name": "ipython",
    "version": 3
   },
   "file_extension": ".py",
   "mimetype": "text/x-python",
   "name": "python",
   "nbconvert_exporter": "python",
   "pygments_lexer": "ipython3",
   "version": "undefined.undefined.undefined"
  }
 },
 "nbformat": 4,
 "nbformat_minor": 2
}
